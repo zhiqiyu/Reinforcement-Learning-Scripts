{
 "cells": [
  {
   "cell_type": "markdown",
   "metadata": {},
   "source": [
    "# Knows What It Knows (KWIK) \n",
    "\n",
    "This script implements an KWIK learner that uses Enumeration algorithm for a simple problem. The problem is as follows:\n",
    "\n",
    "> You are the proprietor of an establishment that sells beverages of an unspecified, but delicious,\n",
    "nature. The establishment is frequented by a set P of patrons. One of the patron is the instigator and\n",
    "another is the peacemaker.\n",
    "On a given evening, a subset S ⊆ P is present at the establishment. If the instigator is in S but the\n",
    "peacemaker is not in S, then a fight will break out. If the instigator is not in S or if the peacemaker\n",
    "is in S, then no fight will occur.\n",
    "Your goal is to predict whether a fight will break out among a subset of the patrons without\n",
    "initially knowing the identity of the instigator or the peacemaker.\n"
   ]
  },
  {
   "cell_type": "code",
   "execution_count": 1,
   "metadata": {},
   "outputs": [
    {
     "name": "stdout",
     "output_type": "stream",
     "text": [
      "Pretty printing has been turned OFF\n"
     ]
    }
   ],
   "source": [
    "import numpy as np\n",
    "%pprint"
   ]
  },
  {
   "cell_type": "code",
   "execution_count": 2,
   "metadata": {},
   "outputs": [],
   "source": [
    "def parseInput(input_str):\n",
    "    \"\"\"Parse input string\"\"\"\n",
    "    lines = input_str.split('\\n')\n",
    "    \n",
    "    # parse numOfPatrons string\n",
    "    numOfPatrons = int(lines[0].split('=')[1].strip())\n",
    "    \n",
    "    # parse the atEstablishment string\n",
    "    atEstablishment = []\n",
    "    est_str = lines[1].split('=')[1].strip()[1:-1]\n",
    "    \n",
    "    for c in est_str:\n",
    "        if c == '{':\n",
    "            atEstablishment.append([])\n",
    "        elif c == ',' or c == '}':\n",
    "            continue\n",
    "        else:\n",
    "            atEstablishment[-1].append(int(c))\n",
    "            \n",
    "    # parse fightOccurred string\n",
    "    fightOccurred = []\n",
    "    occ_str = lines[2].split('=')[1].strip()[1:-1]\n",
    "    for c in occ_str:\n",
    "        if c == ',':\n",
    "            continue\n",
    "        else:\n",
    "            fightOccurred.append(int(c))\n",
    "    \n",
    "    return numOfPatrons, atEstablishment, fightOccurred"
   ]
  },
  {
   "cell_type": "code",
   "execution_count": 3,
   "metadata": {},
   "outputs": [],
   "source": [
    "class KWIK:\n",
    "    \"\"\"\n",
    "    A KWIK learner \n",
    "    \"\"\"\n",
    "    def __init__(self, n, observations, truth):\n",
    "        self.n = n\n",
    "        self.observations = observations\n",
    "        self.truth = truth\n",
    "        self.episodes = zip(observations, truth)\n",
    "        self.hypothesis = [(x, y) for x in range(self.n) for y in range(self.n)]\n",
    "        for x, y in self.hypothesis:\n",
    "            if x == y:\n",
    "                self.hypothesis.remove((x, y))\n",
    "        \n",
    "        self.hypothesis = np.array(self.hypothesis)\n",
    "        \n",
    "    \n",
    "    def __isFight(self, observation, instigator, peacemaker):\n",
    "        \"\"\"Helper function for predicting fight or no fight with given situations\"\"\"\n",
    "        if observation[peacemaker] == 1:\n",
    "            # peacemaker is at establishment, then should not fight\n",
    "            return 0\n",
    "        else:\n",
    "            if observation[instigator] == 1:\n",
    "                # instigator is at establishment while peacemaker is not, then fight\n",
    "                return 1\n",
    "            else:\n",
    "                # neither instigator nor peacemaker is at establishment, then no fight\n",
    "                return 0\n",
    "            \n",
    "    \n",
    "    def learn(self):\n",
    "        \"\"\"Learn by enumerating hypothesis space\"\"\"\n",
    "        results = []\n",
    "        for observ, truth in self.episodes:\n",
    "            # loop through each observation\n",
    "            \n",
    "            if self.hypothesis.shape[0] == 0:\n",
    "                # no hypothesis left, terminate\n",
    "                print(\"No hypothesis left, problem not solved.\")\n",
    "                return -1\n",
    "            \n",
    "            res = []\n",
    "            for hypo in self.hypothesis:\n",
    "                # loop through each hypothesis\n",
    "                ig = hypo[0]\n",
    "                pm = hypo[1]\n",
    "                fight = self.__isFight(observ, ig, pm)\n",
    "                res.append(fight)\n",
    "            \n",
    "            opinions = len(set(res))\n",
    "            if opinions == 1:\n",
    "                # all hypothesis agree on this one, pass on to next observation\n",
    "                results.append(res[0])\n",
    "                continue\n",
    "            else:\n",
    "                # disagreement, return 'do not know', and peek the right answer\n",
    "                results.append(-1)\n",
    "                correct = list(map(lambda x: x == truth, res))\n",
    "                self.hypothesis = self.hypothesis[correct]\n",
    "        \n",
    "        print(\"Completed!\")\n",
    "        return results\n",
    "    \n",
    "    def predict(self):\n",
    "        results = []\n",
    "        for observ in self.observations:\n",
    "            res = []\n",
    "            for hypo in self.hypothesis:\n",
    "                ig = hypo[0]\n",
    "                pm = hypo[1]\n",
    "                fight = self.__isFight(observ, ig, pm)\n",
    "                res.append(fight)\n",
    "            \n",
    "            opinions = len(set(res))\n",
    "            if opinions == 1:\n",
    "                results.append(res[0])\n",
    "            else:\n",
    "                results.append(-1)\n",
    "        return results"
   ]
  },
  {
   "cell_type": "markdown",
   "metadata": {},
   "source": [
    "## Test with Examples"
   ]
  },
  {
   "cell_type": "code",
   "execution_count": 4,
   "metadata": {},
   "outputs": [],
   "source": [
    "input_str = r\"\"\"int numOfPatrons = 4\n",
    "boolean[][] atEstablishment = {{1,1,1,1},{0,1,1,1},{1,1,1,1},{1,1,1,1},{0,1,1,1},{1,1,1,1},{0,1,1,1},{0,1,1,1},{1,1,1,1},{1,1,1,1},{0,0,1,1},{0,1,1,1},{0,1,1,1},{0,1,1,1},{0,0,1,1},{0,1,1,1},{1,1,1,1},{1,1,1,1},{1,1,1,1},{1,1,1,1},{1,1,1,1},{0,0,0,1},{0,1,1,1},{1,1,1,1},{1,1,1,1},{0,1,1,1},{0,1,1,1},{0,1,1,1},{0,0,1,1},{0,0,0,1},{0,1,1,1},{1,1,1,1}}\n",
    "boolean[] fightOccurred = {0,1,0,0,1,0,1,1,0,0,1,1,1,1,1,1,0,0,0,0,0,0,1,0,0,1,1,1,1,0,1,0}\"\"\""
   ]
  },
  {
   "cell_type": "code",
   "execution_count": 5,
   "metadata": {},
   "outputs": [],
   "source": [
    "numOfPatrons, atEstablishment, fightOccurred = parseInput(input_str)"
   ]
  },
  {
   "cell_type": "code",
   "execution_count": 6,
   "metadata": {},
   "outputs": [],
   "source": [
    "learner = KWIK(numOfPatrons, atEstablishment, fightOccurred)"
   ]
  },
  {
   "cell_type": "code",
   "execution_count": 7,
   "metadata": {},
   "outputs": [
    {
     "name": "stdout",
     "output_type": "stream",
     "text": [
      "Completed!\n"
     ]
    }
   ],
   "source": [
    "res = learner.learn()"
   ]
  },
  {
   "cell_type": "markdown",
   "metadata": {},
   "source": [
    "#### Predictions during learning"
   ]
  },
  {
   "cell_type": "code",
   "execution_count": 8,
   "metadata": {},
   "outputs": [
    {
     "data": {
      "text/plain": [
       "[0, -1, 0, 0, 1, 0, 1, 1, 0, 0, -1, 1, 1, 1, 1, 1, 0, 0, 0, 0, 0, -1, 1, 0, 0, 1, 1, 1, 1, 0, 1, 0]"
      ]
     },
     "execution_count": 8,
     "metadata": {},
     "output_type": "execute_result"
    }
   ],
   "source": [
    "res"
   ]
  },
  {
   "cell_type": "markdown",
   "metadata": {},
   "source": [
    "#### Prediction using learned hypothesis"
   ]
  },
  {
   "cell_type": "code",
   "execution_count": 9,
   "metadata": {},
   "outputs": [
    {
     "data": {
      "text/plain": [
       "[0, 1, 0, 0, 1, 0, 1, 1, 0, 0, 1, 1, 1, 1, 1, 1, 0, 0, 0, 0, 0, 0, 1, 0, 0, 1, 1, 1, 1, 0, 1, 0]"
      ]
     },
     "execution_count": 9,
     "metadata": {},
     "output_type": "execute_result"
    }
   ],
   "source": [
    "learner.predict()"
   ]
  }
 ],
 "metadata": {
  "kernelspec": {
   "display_name": "Python 3",
   "language": "python",
   "name": "python3"
  },
  "language_info": {
   "codemirror_mode": {
    "name": "ipython",
    "version": 3
   },
   "file_extension": ".py",
   "mimetype": "text/x-python",
   "name": "python",
   "nbconvert_exporter": "python",
   "pygments_lexer": "ipython3",
   "version": "3.6.7"
  }
 },
 "nbformat": 4,
 "nbformat_minor": 4
}
