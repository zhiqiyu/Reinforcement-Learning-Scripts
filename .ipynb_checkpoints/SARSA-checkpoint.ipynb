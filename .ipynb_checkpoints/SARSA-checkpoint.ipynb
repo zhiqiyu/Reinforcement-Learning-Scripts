{
 "cells": [
  {
   "cell_type": "markdown",
   "metadata": {},
   "source": [
    "# SARSA agent in Frozen Lake Environment\n",
    "\n",
    "Implementation of a SARSA ($S_t, A_t, R_{t+1}, S_{t+1}, A_{t+1}$) agent with an learning example in the Frozen Lake environment."
   ]
  },
  {
   "cell_type": "code",
   "execution_count": 1,
   "metadata": {},
   "outputs": [],
   "source": [
    "import gym\n",
    "import gym.envs.toy_text as toy_text\n",
    "import numpy as np"
   ]
  },
  {
   "cell_type": "code",
   "execution_count": 2,
   "metadata": {},
   "outputs": [],
   "source": [
    "def str2map(str):\n",
    "    \"\"\"A function to transform string of states into 2d array\"\"\"\n",
    "    dim = int(np.sqrt(len(str)))\n",
    "    res = np.empty((dim, dim), dtype='c')\n",
    "    for i in range(dim):\n",
    "        for j in range(dim):\n",
    "            res[i][j] = str[i*dim + j]\n",
    "    return res"
   ]
  },
  {
   "cell_type": "markdown",
   "metadata": {},
   "source": [
    "## Sarsa agent"
   ]
  },
  {
   "cell_type": "code",
   "execution_count": 3,
   "metadata": {},
   "outputs": [],
   "source": [
    "class sarsa:\n",
    "    \"\"\"The SARSA agent class\"\"\"\n",
    "    def __init__(self, env):\n",
    "        self.env = env\n",
    "        self.n_state = env.observation_space.n\n",
    "        self.n_act = env.action_space.n\n",
    "        self.Q = np.zeros((self.n_state, self.n_act))\n",
    "    \n",
    "    def __epsGreedy(self, state, epsilon):\n",
    "        choice = np.random.uniform() < epsilon\n",
    "        if choice:   # need to explore\n",
    "            return np.random.randint(0, self.n_act)\n",
    "        else:        # pick the best move\n",
    "            return np.argmax(self.Q[state, :])\n",
    "        \n",
    "    def train(self, gamma, alpha, epsilon, n_episodes):\n",
    "        # generate episode\n",
    "        for i in range(n_episodes):\n",
    "            self.env.reset()\n",
    "            cur_state = 0\n",
    "            reward = None\n",
    "            done = False\n",
    "            action = self.__epsGreedy(cur_state, epsilon)\n",
    "            while not done:\n",
    "                new_state, reward, done, _ = self.env.step(action)\n",
    "                new_action = self.__epsGreedy(new_state, epsilon)\n",
    "                self.Q[cur_state, action] = (1 - alpha) * self.Q[cur_state, action] + \\\n",
    "                                            alpha * (reward + gamma * self.Q[new_state, new_action])\n",
    "                cur_state = new_state\n",
    "                action = new_action\n",
    "            \n",
    "    def showPolicy(self, action_mapping=['<', 'v', '>', '^']):\n",
    "        best_actions = np.argmax(self.Q, axis=1)\n",
    "        print(\"current policy: \" + \",\".join([action_mapping[i] for i in best_actions]))"
   ]
  },
  {
   "cell_type": "code",
   "execution_count": 4,
   "metadata": {},
   "outputs": [],
   "source": [
    "# env = gym.make('FrozenLake-v0', desc=str2map(\"SFFFHFFFFFFFFFFG\")).unwrapped\n",
    "env = toy_text.frozen_lake.FrozenLakeEnv(desc = str2map(\"SFFFFFFFG\")).unwrapped\n",
    "env.seed(487737)\n",
    "np.random.seed(487737)\n",
    "learner = sarsa(env)"
   ]
  },
  {
   "cell_type": "code",
   "execution_count": 5,
   "metadata": {},
   "outputs": [],
   "source": [
    "learner.train(gamma=0.9,\n",
    "alpha=0.23,\n",
    "epsilon=0.22,\n",
    "n_episodes=16811)"
   ]
  },
  {
   "cell_type": "code",
   "execution_count": 6,
   "metadata": {},
   "outputs": [
    {
     "name": "stdout",
     "output_type": "stream",
     "text": [
      "current policy: >,v,>,v,v,>,v,^,<\n"
     ]
    }
   ],
   "source": [
    "learner.showPolicy()"
   ]
  }
 ],
 "metadata": {
  "kernelspec": {
   "display_name": "Python 3",
   "language": "python",
   "name": "python3"
  },
  "language_info": {
   "codemirror_mode": {
    "name": "ipython",
    "version": 3
   },
   "file_extension": ".py",
   "mimetype": "text/x-python",
   "name": "python",
   "nbconvert_exporter": "python",
   "pygments_lexer": "ipython3",
   "version": "3.6.7"
  }
 },
 "nbformat": 4,
 "nbformat_minor": 2
}
