{
 "cells": [
  {
   "cell_type": "markdown",
   "metadata": {},
   "source": [
    "# Q-learning for Taxi Problem"
   ]
  },
  {
   "cell_type": "markdown",
   "metadata": {},
   "source": [
    "### Taxi problem\n",
    "\n",
    "```\n",
    "Map \"+---------+\",  \n",
    "    \"|R: | : :G|\",  \n",
    "    \"| : | : : |\",  \n",
    "    \"| : : : : |\",  \n",
    "    \"| | : | : |\",  \n",
    "    \"|Y| : |B: |\",  \n",
    "    \"+---------+\",  \n",
    "```\n",
    "\n",
    "Passenger locations:\n",
    "- 0: R(ed)\n",
    "- 1: G(reen)\n",
    "- 2: Y(ellow)\n",
    "- 3: B(lue)\n",
    "- 4: in taxi\n",
    "\n",
    "Destinations:\n",
    "- 0: R(ed)\n",
    "- 1: G(reen)\n",
    "- 2: Y(ellow)\n",
    "- 3: B(lue)\n",
    "\n",
    "Actions:\n",
    "There are 6 discrete deterministic actions:\n",
    "- 0: move south\n",
    "- 1: move north\n",
    "- 2: move east \n",
    "- 3: move west \n",
    "- 4: pickup passenger\n",
    "- 5: dropoff passenger"
   ]
  },
  {
   "cell_type": "code",
   "execution_count": 19,
   "metadata": {},
   "outputs": [],
   "source": [
    "from IPython.display import display, clear_output\n",
    "import time\n",
    "import gym\n",
    "import numpy as np"
   ]
  },
  {
   "cell_type": "code",
   "execution_count": 2,
   "metadata": {},
   "outputs": [],
   "source": [
    "class Qlearning:\n",
    "    \"\"\"Q learning\"\"\"\n",
    "    def __init__(self, env):\n",
    "        self.env = env\n",
    "        self.n_state = env.observation_space.n\n",
    "        self.n_act = env.action_space.n\n",
    "        self.Q = np.random.rand(self.n_state, self.n_act)  # intial Q table arbitrarily\n",
    "        self.old_Q = np.copy(self.Q)\n",
    "        self.visited = np.zeros((self.n_state, self.n_act), dtype=np.int16)\n",
    "        self.count_policy_unchange = 0\n",
    "    \n",
    "    def __epsGreedy(self, state, epsilon):\n",
    "        choice = np.random.uniform() < epsilon\n",
    "        if choice:   # need to explore\n",
    "            return np.random.randint(0, self.n_act)\n",
    "        else:        # pick the best move\n",
    "            return np.argmax(self.Q[state, :])\n",
    "        \n",
    "    def train(self, epsilon, alpha, gamma=0.9, e=1e-2):\n",
    "        count_episodes = 0\n",
    "        while True:\n",
    "            cur_state = self.env.reset()  # set initial state\n",
    "            reward = None\n",
    "            done = False\n",
    "            states = [cur_state]\n",
    "            self.old_Q = np.copy(self.Q)\n",
    "            while not done:\n",
    "                action = self.__epsGreedy(cur_state, epsilon)\n",
    "                new_state, reward, done, _ = self.env.step(action)\n",
    "                delta = alpha * (reward + gamma * np.max(self.Q[new_state, :]) * (not done) - self.Q[cur_state, action])\n",
    "                self.Q[cur_state, action] = self.Q[cur_state, action] + delta\n",
    "                self.visited[cur_state, action] += 1\n",
    "                cur_state = new_state\n",
    "                states.append(new_state)\n",
    "            \n",
    "            count_episodes += 1\n",
    "            \n",
    "            # decay the exploration rate every a few episodes\n",
    "            if count_episodes % 200 == 0:\n",
    "                epsilon *= 0.99  \n",
    "            \n",
    "            # check if the policy for the visited states in this episode changed after the update, if not, increment the counter\n",
    "            if np.sum(np.abs(np.argmax(self.Q[states, :], axis=1) - np.argmax(self.old_Q[states, :], axis=1))) == 0:\n",
    "                self.count_policy_unchange += 1\n",
    "            else:\n",
    "                self.count_policy_unchange = 0\n",
    "            \n",
    "            # if the policy has not changed after many episodes, complete training\n",
    "            if self.count_policy_unchange >= 50000:\n",
    "                print(\"Training complete!\\n-Total episodes: {0}\\n\".format(count_episodes))\n",
    "                break\n",
    "            elif count_episodes % 10000 == 0:           # print some useful information\n",
    "                print(\"Current episodes: {0};\\tCurrent epsilon: {1}\".format(count_episodes, epsilon))\n",
    "                "
   ]
  },
  {
   "cell_type": "code",
   "execution_count": 3,
   "metadata": {},
   "outputs": [],
   "source": [
    "# make the environment\n",
    "env = gym.make(\"Taxi-v2\")"
   ]
  },
  {
   "cell_type": "code",
   "execution_count": 4,
   "metadata": {},
   "outputs": [
    {
     "name": "stdout",
     "output_type": "stream",
     "text": [
      "Current episodes: 10000;\tCurrent epsilon: 0.6050060671375365\n",
      "Current episodes: 20000;\tCurrent epsilon: 0.36603234127322926\n",
      "Current episodes: 30000;\tCurrent epsilon: 0.22145178723886094\n",
      "Current episodes: 40000;\tCurrent epsilon: 0.13397967485796175\n",
      "Current episodes: 50000;\tCurrent epsilon: 0.08105851616218133\n",
      "Current episodes: 60000;\tCurrent epsilon: 0.04904089407128576\n",
      "Current episodes: 70000;\tCurrent epsilon: 0.029670038450977095\n",
      "Current episodes: 80000;\tCurrent epsilon: 0.017950553275045134\n",
      "Current episodes: 90000;\tCurrent epsilon: 0.010860193639877886\n",
      "Training complete!\n",
      "-Total episodes: 97065\n",
      "\n"
     ]
    }
   ],
   "source": [
    "agent = Qlearning(env)\n",
    "agent.train(1, 0.1)    # set initial epsilon to 1 to allow full exploration at beginning"
   ]
  },
  {
   "cell_type": "code",
   "execution_count": 5,
   "metadata": {},
   "outputs": [
    {
     "data": {
      "text/plain": [
       "array([[ 0.72326907,  0.09171229,  0.45041306,  0.72578638,  0.56820715,\n",
       "         0.77463113],\n",
       "       [ 1.62261467,  2.9140163 ,  1.62261467,  2.9140163 ,  4.348907  ,\n",
       "        -6.0859837 ],\n",
       "       [ 4.348907  ,  5.94323   ,  4.348907  ,  5.94323   ,  7.7147    ,\n",
       "        -3.05677   ],\n",
       "       ...,\n",
       "       [ 7.71468748,  9.683     ,  7.71468281,  5.94322342, -1.28530952,\n",
       "        -1.28531191],\n",
       "       [ 1.6225487 ,  2.9140163 ,  1.62258853,  2.91384608, -7.3775295 ,\n",
       "        -7.37763512],\n",
       "       [14.3       , 11.87      , 14.3       , 17.        ,  5.3       ,\n",
       "         5.3       ]])"
      ]
     },
     "execution_count": 5,
     "metadata": {},
     "output_type": "execute_result"
    }
   ],
   "source": [
    "agent.Q"
   ]
  },
  {
   "cell_type": "code",
   "execution_count": 6,
   "metadata": {},
   "outputs": [
    {
     "data": {
      "text/plain": [
       "array([[   0,    0,    0,    0,    0,    0],\n",
       "       [ 815,  829,  783,  870, 8781,  830],\n",
       "       [ 845,  791,  838,  813, 8898,  823],\n",
       "       ...,\n",
       "       [ 317,  792,  310,  317,  326,  326],\n",
       "       [ 329,  687,  320,  439,  293,  269],\n",
       "       [ 823,  887,  883, 9510,  905,  889]], dtype=int16)"
      ]
     },
     "execution_count": 6,
     "metadata": {},
     "output_type": "execute_result"
    }
   ],
   "source": [
    "agent.visited"
   ]
  },
  {
   "cell_type": "code",
   "execution_count": 8,
   "metadata": {},
   "outputs": [
    {
     "data": {
      "text/plain": [
       "-2.404954749799992"
      ]
     },
     "execution_count": 8,
     "metadata": {},
     "output_type": "execute_result"
    }
   ],
   "source": [
    "agent.Q[403,2]"
   ]
  },
  {
   "cell_type": "markdown",
   "metadata": {},
   "source": [
    "### Example of the policy"
   ]
  },
  {
   "cell_type": "code",
   "execution_count": 23,
   "metadata": {},
   "outputs": [
    {
     "name": "stdout",
     "output_type": "stream",
     "text": [
      "+---------+\n",
      "|R: | : :G|\n",
      "| : : : : |\n",
      "| : : : : |\n",
      "| | : | : |\n",
      "|\u001b[35m\u001b[42mY\u001b[0m\u001b[0m| : |B: |\n",
      "+---------+\n",
      "  (South)\n"
     ]
    },
    {
     "data": {
      "text/plain": [
       "None"
      ]
     },
     "metadata": {},
     "output_type": "display_data"
    }
   ],
   "source": [
    "state = env.reset()\n",
    "while True:\n",
    "    time.sleep(1)\n",
    "    action = np.argmax(agent.Q[state, :])\n",
    "    observ, reward, done, _ = env.step(action)\n",
    "    state = observ\n",
    "    if done:\n",
    "        break\n",
    "    else:\n",
    "        clear_output()\n",
    "        display(env.render())"
   ]
  }
 ],
 "metadata": {
  "kernelspec": {
   "display_name": "Python 3",
   "language": "python",
   "name": "python3"
  },
  "language_info": {
   "codemirror_mode": {
    "name": "ipython",
    "version": 3
   },
   "file_extension": ".py",
   "mimetype": "text/x-python",
   "name": "python",
   "nbconvert_exporter": "python",
   "pygments_lexer": "ipython3",
   "version": "3.6.7"
  }
 },
 "nbformat": 4,
 "nbformat_minor": 2
}
