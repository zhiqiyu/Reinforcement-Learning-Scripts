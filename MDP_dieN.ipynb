{
 "cells": [
  {
   "cell_type": "markdown",
   "metadata": {},
   "source": [
    "# MDP example: dieN problem"
   ]
  },
  {
   "cell_type": "code",
   "execution_count": 1,
   "metadata": {},
   "outputs": [],
   "source": [
    "import mdptoolbox\n",
    "import numpy as np\n",
    "import pandas as pd"
   ]
  },
  {
   "cell_type": "code",
   "execution_count": 2,
   "metadata": {},
   "outputs": [],
   "source": [
    "def goodSides(mask):\n",
    "    \"\"\"\n",
    "    Get the list of values of good sides from input mask.\n",
    "\n",
    "    Args:\n",
    "        mask (list): mask of die, 0 for good side, 1 for bad side, values are 1 indexed.\n",
    "\n",
    "    Returns:\n",
    "        list: list of good side values\n",
    "    \"\"\"\n",
    "    return [i+1 for (i, v) in enumerate(mask) if v==0]"
   ]
  },
  {
   "cell_type": "code",
   "execution_count": 3,
   "metadata": {},
   "outputs": [],
   "source": [
    "def getStates(sides, max_rolls):\n",
    "    \"\"\"\n",
    "    Get all possible states given \"maximum rolls\" (not really how many times agent can roll the dice, \n",
    "    but for getting the largest value that is possible from rolling that many times).\n",
    "\n",
    "    Args:\n",
    "        sides (list): values of good sides\n",
    "        max_rolls (int): maximux rolls that is possible when rolling the max side value continuously\n",
    "\n",
    "    Returns:\n",
    "        list: all possible states in ascending order, appended by the 'E' for end state and 'B' for bankrupt state\n",
    "    \"\"\"\n",
    "    \n",
    "    states = [0] + [x for x in sides]\n",
    "    r = 0\n",
    "    max_num = (max_rolls)*sides[-1]\n",
    "    counts = 0\n",
    "    while (True):\n",
    "        counts = len(states)\n",
    "        for i in range(len(states)):\n",
    "            for j in range(len(sides)):\n",
    "                s = states[i] + sides[j]\n",
    "                if s not in states and s <=max_num:\n",
    "                    states.append(s)\n",
    "        if counts == len(states): break\n",
    "    states = sorted(states)\n",
    "    states.append('E')\n",
    "    states.append('B')\n",
    "    return states"
   ]
  },
  {
   "cell_type": "code",
   "execution_count": 4,
   "metadata": {},
   "outputs": [],
   "source": [
    "def getTransitions(states, sides, N, max_rolls):\n",
    "    \"\"\"\n",
    "    Generate transition matrices given states, good side and total side number.\n",
    "\n",
    "    Args:\n",
    "        states (list): all possible states\n",
    "        sides (list): good side values (rewards)\n",
    "        N (int): total number of sides\n",
    "        max_rolls (int): see doc for getStatus\n",
    "\n",
    "    Returns:\n",
    "        np.array: transition matrices of size (A, S, S), A is #actions, S is #states\n",
    "    \"\"\"\n",
    "    trans0 = pd.DataFrame(0, index=states, columns=states)\n",
    "    trans1 = pd.DataFrame(0, index=states, columns=states)\n",
    "    n = len(sides)                                     # number of good side\n",
    "    b_rate = 1 - n/N                                   # probability of rolling a bad side\n",
    "    trans0.iloc[len(sides)+1:, -1] = 1                 # preset all transitions to bankrupt state as true for action 'roll'\n",
    "    for i in range(len(states)-2):                     # loop through all numerical states\n",
    "        if states[i] <= sides[-1]*(max_rolls-1):       # check if the current row (state) is from less than max_rolls rolls\n",
    "            for j in range(len(states)-2):\n",
    "                if states[j] - states[i] in sides:\n",
    "                    trans0.iloc[i, j] = 1/N\n",
    "            trans0.iloc[i, -1] = b_rate                # set probability of transition to bankrupt state \n",
    "    trans1.iloc[:-1, -2] = 1\n",
    "    trans1.iloc[-1, -1] = 1\n",
    "    return np.stack((trans0.to_numpy(), trans1.to_numpy()), axis=0)"
   ]
  },
  {
   "cell_type": "code",
   "execution_count": 5,
   "metadata": {},
   "outputs": [],
   "source": [
    "def getRewards(states):\n",
    "    \"\"\"\n",
    "    Generate reward function.\n",
    "\n",
    "    Args:\n",
    "        states (list): all possible states\n",
    "\n",
    "    Returns:\n",
    "        reward (np.array): reward matrices of size (S, A)\n",
    "    \"\"\"\n",
    "    rewards = pd.DataFrame(0, index=states, columns=[\"roll\", \"end\"])\n",
    "    for s in states:\n",
    "        if s not in ['B', 'E']:\n",
    "            rewards.loc[s, \"end\"] = s\n",
    "    return rewards.to_numpy()"
   ]
  },
  {
   "cell_type": "markdown",
   "metadata": {},
   "source": [
    "## Plug in mask and solve the MDP"
   ]
  },
  {
   "cell_type": "code",
   "execution_count": 6,
   "metadata": {},
   "outputs": [
    {
     "data": {
      "text/plain": [
       "[1, 2, 3, 4, 5, 7, 9, 10, 12, 13, 15, 16, 17, 18, 20, 21, 22, 23]"
      ]
     },
     "execution_count": 6,
     "metadata": {},
     "output_type": "execute_result"
    }
   ],
   "source": [
    "mask = [0,0,0,0,0,1,0,1,0,0,1,0,0,1,0,0,0,0,1,0,0,0,0]\n",
    "sides = goodSides(mask)\n",
    "sides"
   ]
  },
  {
   "cell_type": "code",
   "execution_count": 7,
   "metadata": {},
   "outputs": [],
   "source": [
    "max_rolls = 3"
   ]
  },
  {
   "cell_type": "code",
   "execution_count": 8,
   "metadata": {},
   "outputs": [
    {
     "data": {
      "text/plain": [
       "[0,\n",
       " 1,\n",
       " 2,\n",
       " 3,\n",
       " 4,\n",
       " 5,\n",
       " 6,\n",
       " 7,\n",
       " 8,\n",
       " 9,\n",
       " 10,\n",
       " 11,\n",
       " 12,\n",
       " 13,\n",
       " 14,\n",
       " 15,\n",
       " 16,\n",
       " 17,\n",
       " 18,\n",
       " 19,\n",
       " 20,\n",
       " 21,\n",
       " 22,\n",
       " 23,\n",
       " 24,\n",
       " 25,\n",
       " 26,\n",
       " 27,\n",
       " 28,\n",
       " 29,\n",
       " 30,\n",
       " 31,\n",
       " 32,\n",
       " 33,\n",
       " 34,\n",
       " 35,\n",
       " 36,\n",
       " 37,\n",
       " 38,\n",
       " 39,\n",
       " 40,\n",
       " 41,\n",
       " 42,\n",
       " 43,\n",
       " 44,\n",
       " 45,\n",
       " 46,\n",
       " 47,\n",
       " 48,\n",
       " 49,\n",
       " 50,\n",
       " 51,\n",
       " 52,\n",
       " 53,\n",
       " 54,\n",
       " 55,\n",
       " 56,\n",
       " 57,\n",
       " 58,\n",
       " 59,\n",
       " 60,\n",
       " 61,\n",
       " 62,\n",
       " 63,\n",
       " 64,\n",
       " 65,\n",
       " 66,\n",
       " 67,\n",
       " 68,\n",
       " 69,\n",
       " 'E',\n",
       " 'B']"
      ]
     },
     "execution_count": 8,
     "metadata": {},
     "output_type": "execute_result"
    }
   ],
   "source": [
    "states = getStates(sides, max_rolls)\n",
    "states"
   ]
  },
  {
   "cell_type": "code",
   "execution_count": 9,
   "metadata": {},
   "outputs": [
    {
     "data": {
      "text/plain": [
       "array([[[0.        , 0.04347826, 0.04347826, ..., 0.        ,\n",
       "         0.        , 0.2173913 ],\n",
       "        [0.        , 0.        , 0.04347826, ..., 0.        ,\n",
       "         0.        , 0.2173913 ],\n",
       "        [0.        , 0.        , 0.        , ..., 0.        ,\n",
       "         0.        , 0.2173913 ],\n",
       "        ...,\n",
       "        [0.        , 0.        , 0.        , ..., 0.        ,\n",
       "         0.        , 1.        ],\n",
       "        [0.        , 0.        , 0.        , ..., 0.        ,\n",
       "         0.        , 1.        ],\n",
       "        [0.        , 0.        , 0.        , ..., 0.        ,\n",
       "         0.        , 1.        ]],\n",
       "\n",
       "       [[0.        , 0.        , 0.        , ..., 0.        ,\n",
       "         1.        , 0.        ],\n",
       "        [0.        , 0.        , 0.        , ..., 0.        ,\n",
       "         1.        , 0.        ],\n",
       "        [0.        , 0.        , 0.        , ..., 0.        ,\n",
       "         1.        , 0.        ],\n",
       "        ...,\n",
       "        [0.        , 0.        , 0.        , ..., 0.        ,\n",
       "         1.        , 0.        ],\n",
       "        [0.        , 0.        , 0.        , ..., 0.        ,\n",
       "         1.        , 0.        ],\n",
       "        [0.        , 0.        , 0.        , ..., 0.        ,\n",
       "         0.        , 1.        ]]])"
      ]
     },
     "execution_count": 9,
     "metadata": {},
     "output_type": "execute_result"
    }
   ],
   "source": [
    "trans = getTransitions(states, sides, len(mask), max_rolls)\n",
    "trans"
   ]
  },
  {
   "cell_type": "code",
   "execution_count": 10,
   "metadata": {},
   "outputs": [
    {
     "data": {
      "text/plain": [
       "array([[ 0,  0],\n",
       "       [ 0,  1],\n",
       "       [ 0,  2],\n",
       "       [ 0,  3],\n",
       "       [ 0,  4],\n",
       "       [ 0,  5],\n",
       "       [ 0,  6],\n",
       "       [ 0,  7],\n",
       "       [ 0,  8],\n",
       "       [ 0,  9],\n",
       "       [ 0, 10],\n",
       "       [ 0, 11],\n",
       "       [ 0, 12],\n",
       "       [ 0, 13],\n",
       "       [ 0, 14],\n",
       "       [ 0, 15],\n",
       "       [ 0, 16],\n",
       "       [ 0, 17],\n",
       "       [ 0, 18],\n",
       "       [ 0, 19],\n",
       "       [ 0, 20],\n",
       "       [ 0, 21],\n",
       "       [ 0, 22],\n",
       "       [ 0, 23],\n",
       "       [ 0, 24],\n",
       "       [ 0, 25],\n",
       "       [ 0, 26],\n",
       "       [ 0, 27],\n",
       "       [ 0, 28],\n",
       "       [ 0, 29],\n",
       "       [ 0, 30],\n",
       "       [ 0, 31],\n",
       "       [ 0, 32],\n",
       "       [ 0, 33],\n",
       "       [ 0, 34],\n",
       "       [ 0, 35],\n",
       "       [ 0, 36],\n",
       "       [ 0, 37],\n",
       "       [ 0, 38],\n",
       "       [ 0, 39],\n",
       "       [ 0, 40],\n",
       "       [ 0, 41],\n",
       "       [ 0, 42],\n",
       "       [ 0, 43],\n",
       "       [ 0, 44],\n",
       "       [ 0, 45],\n",
       "       [ 0, 46],\n",
       "       [ 0, 47],\n",
       "       [ 0, 48],\n",
       "       [ 0, 49],\n",
       "       [ 0, 50],\n",
       "       [ 0, 51],\n",
       "       [ 0, 52],\n",
       "       [ 0, 53],\n",
       "       [ 0, 54],\n",
       "       [ 0, 55],\n",
       "       [ 0, 56],\n",
       "       [ 0, 57],\n",
       "       [ 0, 58],\n",
       "       [ 0, 59],\n",
       "       [ 0, 60],\n",
       "       [ 0, 61],\n",
       "       [ 0, 62],\n",
       "       [ 0, 63],\n",
       "       [ 0, 64],\n",
       "       [ 0, 65],\n",
       "       [ 0, 66],\n",
       "       [ 0, 67],\n",
       "       [ 0, 68],\n",
       "       [ 0, 69],\n",
       "       [ 0,  0],\n",
       "       [ 0,  0]], dtype=int64)"
      ]
     },
     "execution_count": 10,
     "metadata": {},
     "output_type": "execute_result"
    }
   ],
   "source": [
    "rewards = getRewards(states)\n",
    "rewards"
   ]
  },
  {
   "cell_type": "code",
   "execution_count": 11,
   "metadata": {},
   "outputs": [
    {
     "name": "stdout",
     "output_type": "stream",
     "text": [
      "WARNING: check conditions of convergence. With no discount, convergence can not be assumed.\n"
     ]
    }
   ],
   "source": [
    "mdp = mdptoolbox.mdp.ValueIteration(trans, rewards, 1)"
   ]
  },
  {
   "cell_type": "code",
   "execution_count": 12,
   "metadata": {},
   "outputs": [
    {
     "name": "stdout",
     "output_type": "stream",
     "text": [
      "V(0) = 18.788893349181098\n"
     ]
    }
   ],
   "source": [
    "mdp.run()\n",
    "print(\"V(0) = \" + str(mdp.V[0]))"
   ]
  }
 ],
 "metadata": {
  "kernelspec": {
   "display_name": "Python 3",
   "language": "python",
   "name": "python3"
  },
  "language_info": {
   "codemirror_mode": {
    "name": "ipython",
    "version": 3
   },
   "file_extension": ".py",
   "mimetype": "text/x-python",
   "name": "python",
   "nbconvert_exporter": "python",
   "pygments_lexer": "ipython3",
   "version": "3.6.0"
  }
 },
 "nbformat": 4,
 "nbformat_minor": 2
}
