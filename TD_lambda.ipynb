{
 "cells": [
  {
   "cell_type": "markdown",
   "metadata": {},
   "source": [
    "# TD($\\lambda$)"
   ]
  },
  {
   "cell_type": "code",
   "execution_count": 1,
   "metadata": {},
   "outputs": [],
   "source": [
    "import numpy as np\n",
    "import pandas as pd"
   ]
  },
  {
   "cell_type": "code",
   "execution_count": 2,
   "metadata": {},
   "outputs": [],
   "source": [
    "def computeTD1(prob, R):\n",
    "    return prob*(R[0] + R[2]) + (1-prob)*(R[1] + R[3]) + R[4] + R[5] + R[6]\n",
    "\n",
    "def computeEk(k, prob, V, R):\n",
    "    if k == 1:\n",
    "        return prob*(R[0] + V[1]) + (1-prob)*(R[1] + V[2])\n",
    "    elif k == 2:\n",
    "        return prob*(R[0] + R[2] + V[3]) + (1-prob)*(R[1] + R[3] + V[3])\n",
    "    else:\n",
    "        Ek = prob*(R[0] + R[2]) + (1-prob)*(R[1] + R[3])\n",
    "        for i in range(4, 4 + k-2):\n",
    "            Ek += R[i]\n",
    "        Ek += V[i]\n",
    "        return Ek"
   ]
  },
  {
   "cell_type": "markdown",
   "metadata": {},
   "source": [
    "## Example 1"
   ]
  },
  {
   "cell_type": "code",
   "execution_count": 3,
   "metadata": {},
   "outputs": [],
   "source": [
    "prob = 0.81\n",
    "valueEstimates = [0.0,4.0,25.7,0.0,20.1,12.2,0.0] \n",
    "rewards = [7.9,-5.1,2.5,-7.2,9.0,0.0,1.6]"
   ]
  },
  {
   "cell_type": "code",
   "execution_count": 4,
   "metadata": {},
   "outputs": [],
   "source": [
    "td1 = computeTD1(prob, rewards)\n",
    "E = [computeEk(i, prob, valueEstimates, rewards) for i in range(1, 1 + 5)]"
   ]
  },
  {
   "cell_type": "code",
   "execution_count": 5,
   "metadata": {},
   "outputs": [
    {
     "data": {
      "text/plain": [
       "(16.687, [13.553, 6.0870000000000015, 35.187000000000005, 27.287, 16.687])"
      ]
     },
     "execution_count": 5,
     "metadata": {},
     "output_type": "execute_result"
    }
   ],
   "source": [
    "td1, E"
   ]
  },
  {
   "cell_type": "code",
   "execution_count": 6,
   "metadata": {},
   "outputs": [
    {
     "data": {
      "text/plain": [
       "[0.0, 10.599999999999998, 18.500000000000004, -10.6, -3.1340000000000003]"
      ]
     },
     "execution_count": 6,
     "metadata": {},
     "output_type": "execute_result"
    }
   ],
   "source": [
    "E.reverse()\n",
    "coef = [x - td1 for x in E]\n",
    "coef"
   ]
  },
  {
   "cell_type": "code",
   "execution_count": 7,
   "metadata": {},
   "outputs": [
    {
     "data": {
      "text/plain": [
       "array([-2.14692153,  0.6227695 , -0.22113099])"
      ]
     },
     "execution_count": 7,
     "metadata": {},
     "output_type": "execute_result"
    }
   ],
   "source": [
    "np.roots(coef)"
   ]
  },
  {
   "cell_type": "markdown",
   "metadata": {},
   "source": [
    "## Example 2"
   ]
  },
  {
   "cell_type": "code",
   "execution_count": 8,
   "metadata": {},
   "outputs": [],
   "source": [
    "prob = 0.22\n",
    "valueEstimates = [0.0,-5.2,0.0,25.4,10.6,9.2,12.3] \n",
    "rewards = [-2.4,0.8,4.0,2.5,8.6,-6.4,6.1]"
   ]
  },
  {
   "cell_type": "code",
   "execution_count": 12,
   "metadata": {},
   "outputs": [
    {
     "data": {
      "text/plain": [
       "(11.225999999999999,\n",
       " [-1.0479999999999998, 28.326, 22.125999999999998, 14.325999999999999, 23.526])"
      ]
     },
     "execution_count": 12,
     "metadata": {},
     "output_type": "execute_result"
    }
   ],
   "source": [
    "td1 = computeTD1(prob, rewards)\n",
    "E = [computeEk(i, prob, valueEstimates, rewards) for i in range(1, 1 + 5)]\n",
    "td1, E"
   ]
  },
  {
   "cell_type": "code",
   "execution_count": 10,
   "metadata": {},
   "outputs": [
    {
     "data": {
      "text/plain": [
       "[12.3, 3.0999999999999996, 10.899999999999999, 17.1, -12.274]"
      ]
     },
     "execution_count": 10,
     "metadata": {},
     "output_type": "execute_result"
    }
   ],
   "source": [
    "E.reverse()\n",
    "coef = [x - td1 for x in E]\n",
    "coef"
   ]
  },
  {
   "cell_type": "code",
   "execution_count": 11,
   "metadata": {},
   "outputs": [
    {
     "data": {
      "text/plain": [
       "array([-1.16015001+0.j       ,  0.20622303+1.3010633j,\n",
       "        0.20622303-1.3010633j,  0.49567142+0.j       ])"
      ]
     },
     "execution_count": 11,
     "metadata": {},
     "output_type": "execute_result"
    }
   ],
   "source": [
    "np.roots(coef)"
   ]
  },
  {
   "cell_type": "markdown",
   "metadata": {},
   "source": [
    "## Example 3"
   ]
  },
  {
   "cell_type": "code",
   "execution_count": 13,
   "metadata": {},
   "outputs": [],
   "source": [
    "prob = 0.64\n",
    "valueEstimates = [0.0,4.9,7.8,-2.3,25.5,-10.2,-6.5] \n",
    "rewards = [-2.4,9.6,-7.8,0.1,3.4,-2.1,7.9]"
   ]
  },
  {
   "cell_type": "code",
   "execution_count": 14,
   "metadata": {},
   "outputs": [
    {
     "data": {
      "text/plain": [
       "(6.164, [7.864, -5.336, 25.864, -11.936, -0.3360000000000003])"
      ]
     },
     "execution_count": 14,
     "metadata": {},
     "output_type": "execute_result"
    }
   ],
   "source": [
    "td1 = computeTD1(prob, rewards)\n",
    "E = [computeEk(i, prob, valueEstimates, rewards) for i in range(1, 1 + 5)]\n",
    "td1, E"
   ]
  },
  {
   "cell_type": "code",
   "execution_count": 15,
   "metadata": {},
   "outputs": [
    {
     "data": {
      "text/plain": [
       "[-6.5, -18.1, 19.700000000000003, -11.5, 1.7000000000000002]"
      ]
     },
     "execution_count": 15,
     "metadata": {},
     "output_type": "execute_result"
    }
   ],
   "source": [
    "E.reverse()\n",
    "coef = [x - td1 for x in E]\n",
    "coef"
   ]
  },
  {
   "cell_type": "code",
   "execution_count": 16,
   "metadata": {},
   "outputs": [
    {
     "data": {
      "text/plain": [
       "array([-3.72950282+0.j        ,  0.36969234+0.45229758j,\n",
       "        0.36969234-0.45229758j,  0.20550276+0.j        ])"
      ]
     },
     "execution_count": 16,
     "metadata": {},
     "output_type": "execute_result"
    }
   ],
   "source": [
    "np.roots(coef)"
   ]
  }
 ],
 "metadata": {
  "kernelspec": {
   "display_name": "Python 3",
   "language": "python",
   "name": "python3"
  },
  "language_info": {
   "codemirror_mode": {
    "name": "ipython",
    "version": 3
   },
   "file_extension": ".py",
   "mimetype": "text/x-python",
   "name": "python",
   "nbconvert_exporter": "python",
   "pygments_lexer": "ipython3",
   "version": "3.6.0"
  }
 },
 "nbformat": 4,
 "nbformat_minor": 2
}
